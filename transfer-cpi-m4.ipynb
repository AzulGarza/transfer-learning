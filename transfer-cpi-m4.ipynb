{
 "cells": [
  {
   "cell_type": "code",
   "execution_count": 1,
   "metadata": {},
   "outputs": [],
   "source": [
    "from fforma import *\n",
    "import pandas as pd\n",
    "from fforma.train_models import trainBasicModels\n",
    "import random\n",
    "import matplotlib.pyplot as plt\n",
    "import warnings\n",
    "warnings.filterwarnings(\"ignore\")"
   ]
  },
  {
   "cell_type": "code",
   "execution_count": 2,
   "metadata": {},
   "outputs": [],
   "source": [
    "def get_data(data = 'M4', freq = 'Monthly', frcy=12, val_periods=18, basic_models = [Naive(), SeasonalNaive(), RandomWalkDrift(), ETS()]):\n",
    "    # Reding complete data\n",
    "    if data == 'M4':\n",
    "        data = pd.read_csv(f'data/data_m4/{freq}-train.csv')\n",
    "        data_test = pd.read_csv(f'data/data_m4/{freq}-test.csv')\n",
    "\n",
    "        # Train and test set\n",
    "        ts_list_train = [ts[1:].dropna().values for idx, ts in data.iterrows()]\n",
    "        ts_list_test = [ts[1:].dropna().values for idx, ts in data_test.iterrows()]\n",
    "        random.seed(2020202)\n",
    "        indexes = random.sample(range(len(ts_list_train)), k=2000)\n",
    "        \n",
    "        ts_list_train = [ts_list_train[idx] for idx in indexes]\n",
    "        ts_list_test = [ts_list_test[idx] for idx in indexes]\n",
    "    else:\n",
    "        #freq_dict = {\n",
    "        #    'Monthly': 'M'\n",
    "        #}\n",
    "        \n",
    "        #freq_m3 = freq_dict[freq]\n",
    "        data = pd.read_csv('data/data_cpi/cpi-ocde-val.csv')\n",
    "        data_test = data.query('type==\"test\"')\n",
    "        data = data.query('type==\"train\"')\n",
    "\n",
    "        # Train and test set\n",
    "        ts_list_train = [df['value'].values for idx, df in data.groupby('location')]\n",
    "        ts_list_test = [df['value'].values for idx, df in data_test.groupby('location')]\n",
    "        \n",
    "    #Test periods\n",
    "    test_periods = len(ts_list_test[0])\n",
    "    \n",
    "    # Validation set\n",
    "    ts_train_for_val = [ts[:-val_periods] for ts in ts_list_train] \n",
    "    ts_val_list = [ts[-val_periods:] for ts in ts_list_train]\n",
    "    \n",
    "    # Prediction for validation set and train set\n",
    "    ts_hat_val_list = trainBasicModels().train(basic_models, ts_train_for_val, frcy).predict(val_periods)\n",
    "    ts_hat_list = trainBasicModels().train(basic_models, ts_list_train, frcy).predict(test_periods)\n",
    "    \n",
    "    \n",
    "    data_dict = {\n",
    "        'ts': ts_list_train, 'ts_test': ts_list_test, 'ts_hat_test': ts_hat_list,\n",
    "        'ts_val': ts_val_list, 'ts_hat_val': ts_hat_val_list\n",
    "    }\n",
    "    \n",
    "    return data_dict"
   ]
  },
  {
   "cell_type": "code",
   "execution_count": 3,
   "metadata": {},
   "outputs": [],
   "source": [
    "frcy = 12"
   ]
  },
  {
   "cell_type": "code",
   "execution_count": 4,
   "metadata": {},
   "outputs": [
    {
     "name": "stderr",
     "output_type": "stream",
     "text": [
      "100%|██████████| 2000/2000 [00:31<00:00, 63.09it/s]\n",
      "100%|██████████| 2000/2000 [00:04<00:00, 487.11it/s]\n",
      "100%|██████████| 2000/2000 [00:31<00:00, 67.14it/s]\n",
      "100%|██████████| 2000/2000 [00:04<00:00, 479.40it/s]\n"
     ]
    }
   ],
   "source": [
    "data_m4 = get_data(data='M4', val_periods=24)"
   ]
  },
  {
   "cell_type": "code",
   "execution_count": 6,
   "metadata": {},
   "outputs": [
    {
     "name": "stderr",
     "output_type": "stream",
     "text": [
      "100%|██████████| 49/49 [00:00<00:00, 85.08it/s]\n",
      "100%|██████████| 49/49 [00:00<00:00, 345.31it/s]\n",
      "100%|██████████| 49/49 [00:00<00:00, 72.38it/s]\n",
      "100%|██████████| 49/49 [00:00<00:00, 319.56it/s]\n"
     ]
    }
   ],
   "source": [
    "data_cpi = get_data(data='CPI', val_periods=24) "
   ]
  },
  {
   "cell_type": "code",
   "execution_count": 7,
   "metadata": {},
   "outputs": [],
   "source": [
    "data_cpi_m4 = {}\n",
    "for key in data_m4.keys():\n",
    "    data_cpi_m4[key] = data_m4[key] + data_cpi[key]"
   ]
  },
  {
   "cell_type": "code",
   "execution_count": 8,
   "metadata": {},
   "outputs": [
    {
     "name": "stderr",
     "output_type": "stream",
     "text": [
      "  3%|▎         | 52/2049 [00:00<00:03, 514.06it/s]"
     ]
    },
    {
     "name": "stdout",
     "output_type": "stream",
     "text": [
      "Setting model\n",
      "Computing contribution to owa\n",
      "Training NAIVE2\n"
     ]
    },
    {
     "name": "stderr",
     "output_type": "stream",
     "text": [
      "100%|██████████| 2049/2049 [00:04<00:00, 478.69it/s]\n",
      "2049it [00:00, 11085.95it/s]\n",
      "0it [00:00, ?it/s]"
     ]
    },
    {
     "name": "stdout",
     "output_type": "stream",
     "text": [
      "Calculating errors\n"
     ]
    },
    {
     "name": "stderr",
     "output_type": "stream",
     "text": [
      "2049it [00:00, 3961.80it/s]\n",
      "2049it [00:00, 44989.08it/s]\n",
      "2049it [00:00, 14852.93it/s]\n"
     ]
    },
    {
     "name": "stdout",
     "output_type": "stream",
     "text": [
      "Naive 2 errors\n",
      "Computing features\n",
      "100%|██████████| 10/10 [02:05<00:00, 14.81s/it, best loss: 517.4367321234524]\n"
     ]
    }
   ],
   "source": [
    "fforma_complete_data = FForma(\n",
    "    data_cpi_m4['ts'],\n",
    "    data_cpi_m4['ts_val'],\n",
    "    data_cpi_m4['ts_hat_val'],\n",
    "    data_cpi_m4['ts_hat_test'],\n",
    "    frcy,\n",
    "    max_evals=10\n",
    ").train()"
   ]
  },
  {
   "cell_type": "code",
   "execution_count": 9,
   "metadata": {},
   "outputs": [
    {
     "name": "stderr",
     "output_type": "stream",
     "text": [
      " 16%|█▋        | 8/49 [00:00<00:00, 79.82it/s]"
     ]
    },
    {
     "name": "stdout",
     "output_type": "stream",
     "text": [
      "Setting model\n",
      "Computing contribution to owa\n",
      "Training NAIVE2\n"
     ]
    },
    {
     "name": "stderr",
     "output_type": "stream",
     "text": [
      "100%|██████████| 49/49 [00:00<00:00, 90.52it/s]\n",
      "49it [00:00, 13021.66it/s]\n",
      "49it [00:00, 5088.91it/s]\n",
      "49it [00:00, 59040.76it/s]\n",
      "49it [00:00, 10219.33it/s]\n"
     ]
    },
    {
     "name": "stdout",
     "output_type": "stream",
     "text": [
      "Calculating errors\n",
      "Naive 2 errors\n",
      "Computing features\n",
      "100%|██████████| 10/10 [00:09<00:00,  1.03it/s, best loss: 12.431793115783888]\n"
     ]
    }
   ],
   "source": [
    "fforma_cpi_data = FForma(\n",
    "    data_cpi['ts'],\n",
    "    data_cpi['ts_val'],\n",
    "    data_cpi['ts_hat_val'],\n",
    "    data_cpi['ts_hat_test'],\n",
    "    frcy,\n",
    "    max_evals=10\n",
    ").train()"
   ]
  },
  {
   "cell_type": "code",
   "execution_count": 10,
   "metadata": {},
   "outputs": [],
   "source": [
    "preds_complete_data = fforma_complete_data.predict(data_cpi['ts'], data_cpi['ts_hat_test'], frcy=frcy)\n",
    "preds_complete_data = [[pred] for pred in preds_complete_data]"
   ]
  },
  {
   "cell_type": "code",
   "execution_count": 11,
   "metadata": {},
   "outputs": [],
   "source": [
    "preds_cpi_data = fforma_cpi_data.predict(data_cpi['ts'], data_cpi['ts_hat_test'], frcy=frcy)\n",
    "preds_cpi_data = [[pred] for pred in preds_cpi_data]"
   ]
  },
  {
   "cell_type": "code",
   "execution_count": 67,
   "metadata": {},
   "outputs": [
    {
     "name": "stderr",
     "output_type": "stream",
     "text": [
      "\n",
      "  0%|          | 0/49 [00:00<?, ?it/s]\u001b[A\n",
      " 16%|█▋        | 8/49 [00:00<00:00, 74.85it/s]\u001b[A"
     ]
    },
    {
     "name": "stdout",
     "output_type": "stream",
     "text": [
      "Training NAIVE2\n"
     ]
    },
    {
     "name": "stderr",
     "output_type": "stream",
     "text": [
      "\n",
      " 41%|████      | 20/49 [00:00<00:00, 82.87it/s]\u001b[A\n",
      " 61%|██████    | 30/49 [00:00<00:00, 85.83it/s]\u001b[A\n",
      " 84%|████████▎ | 41/49 [00:00<00:00, 91.86it/s]\u001b[A\n",
      "100%|██████████| 49/49 [00:00<00:00, 99.36it/s]\u001b[A\n",
      "0it [00:00, ?it/s]\u001b[A\n",
      "49it [00:00, 13540.71it/s]\u001b[A\n",
      "0it [00:00, ?it/s]\u001b[A\n",
      "49it [00:00, 13160.08it/s]\u001b[A\n",
      "0it [00:00, ?it/s]\u001b[A\n",
      "49it [00:00, 27939.22it/s]\u001b[A\n",
      "0it [00:00, ?it/s]\u001b[A\n",
      "49it [00:00, 17500.08it/s]\u001b[A"
     ]
    },
    {
     "name": "stdout",
     "output_type": "stream",
     "text": [
      "Calculating errors\n",
      "Naive 2 errors\n"
     ]
    },
    {
     "data": {
      "text/plain": [
       "0.9240208491231967"
      ]
     },
     "execution_count": 67,
     "metadata": {},
     "output_type": "execute_result"
    }
   ],
   "source": [
    "owa_complete_data = fforma_complete_data.contribution_to_owa(data_cpi['ts'], data_cpi['ts_test'], preds_complete_data, frcy=frcy).mean()\n",
    "owa_complete_data"
   ]
  },
  {
   "cell_type": "code",
   "execution_count": 68,
   "metadata": {},
   "outputs": [
    {
     "name": "stderr",
     "output_type": "stream",
     "text": [
      "\n",
      "  0%|          | 0/49 [00:00<?, ?it/s]\u001b[A\n",
      " 22%|██▏       | 11/49 [00:00<00:00, 108.87it/s]\u001b[A"
     ]
    },
    {
     "name": "stdout",
     "output_type": "stream",
     "text": [
      "Training NAIVE2\n"
     ]
    },
    {
     "name": "stderr",
     "output_type": "stream",
     "text": [
      "\n",
      " 49%|████▉     | 24/49 [00:00<00:00, 112.98it/s]\u001b[A\n",
      " 71%|███████▏  | 35/49 [00:00<00:00, 110.44it/s]\u001b[A\n",
      " 98%|█████████▊| 48/49 [00:00<00:00, 112.64it/s]\u001b[A\n",
      "100%|██████████| 49/49 [00:00<00:00, 112.04it/s]\u001b[A\n",
      "0it [00:00, ?it/s]\u001b[A\n",
      "49it [00:00, 33089.82it/s]\u001b[A\n",
      "0it [00:00, ?it/s]\u001b[A\n",
      "49it [00:00, 14045.99it/s]\u001b[A\n",
      "0it [00:00, ?it/s]\u001b[A\n",
      "49it [00:00, 39837.35it/s]\u001b[A\n",
      "0it [00:00, ?it/s]\u001b[A\n",
      "49it [00:00, 9687.53it/s]\u001b[A"
     ]
    },
    {
     "name": "stdout",
     "output_type": "stream",
     "text": [
      "Calculating errors\n",
      "Naive 2 errors\n"
     ]
    },
    {
     "data": {
      "text/plain": [
       "0.9207525618549862"
      ]
     },
     "execution_count": 68,
     "metadata": {},
     "output_type": "execute_result"
    }
   ],
   "source": [
    "owa_cpi_data = fforma_cpi_data.contribution_to_owa(data_cpi['ts'], data_cpi['ts_test'], preds_cpi_data, frcy=frcy).mean()\n",
    "owa_cpi_data"
   ]
  },
  {
   "cell_type": "code",
   "execution_count": 17,
   "metadata": {},
   "outputs": [],
   "source": [
    "ecm = [np.sqrt((test-actual)**2).mean() for test, actual in zip(data_cpi['ts_test'], preds_complete_data)]"
   ]
  },
  {
   "cell_type": "code",
   "execution_count": 19,
   "metadata": {},
   "outputs": [],
   "source": [
    "data = pd.read_csv('data/data_cpi/cpi-ocde-val.csv')"
   ]
  },
  {
   "cell_type": "code",
   "execution_count": 21,
   "metadata": {},
   "outputs": [],
   "source": [
    "data = data[['location']].drop_duplicates()"
   ]
  },
  {
   "cell_type": "code",
   "execution_count": 23,
   "metadata": {},
   "outputs": [],
   "source": [
    "data['recm'] = ecm"
   ]
  },
  {
   "cell_type": "code",
   "execution_count": 27,
   "metadata": {},
   "outputs": [],
   "source": [
    "data = data.reset_index(drop=True)"
   ]
  },
  {
   "cell_type": "code",
   "execution_count": 54,
   "metadata": {},
   "outputs": [],
   "source": [
    "data['train'] = data_cpi['ts']\n",
    "data['test'] = data_cpi['ts_test']\n",
    "data['preds'] = preds_cpi_data\n",
    "data['preds_models'] = data_cpi['ts_hat_test']"
   ]
  },
  {
   "cell_type": "code",
   "execution_count": 55,
   "metadata": {},
   "outputs": [],
   "source": [
    "mx = data[data['location'] == 'MEX']"
   ]
  },
  {
   "cell_type": "code",
   "execution_count": 76,
   "metadata": {},
   "outputs": [
    {
     "data": {
      "text/plain": [
       "array([3.0327117e-01, 5.2085474e-05, 1.8265489e-01, 5.1402152e-01],\n",
       "      dtype=float32)"
      ]
     },
     "execution_count": 76,
     "metadata": {},
     "output_type": "execute_result"
    }
   ],
   "source": [
    "fforma_complete_data.opt_weights.mean(axis=0)"
   ]
  },
  {
   "cell_type": "code",
   "execution_count": 63,
   "metadata": {},
   "outputs": [
    {
     "data": {
      "text/plain": [
       "[<matplotlib.lines.Line2D at 0x7fd5b11b8128>]"
      ]
     },
     "execution_count": 63,
     "metadata": {},
     "output_type": "execute_result"
    },
    {
     "data": {
      "image/png": "[encoded data removed]",
      "text/plain": [
       "<Figure size 432x288 with 1 Axes>"
      ]
     },
     "metadata": {
      "needs_background": "light"
     },
     "output_type": "display_data"
    }
   ],
   "source": [
    "#plt.plot(mx['train'].iloc[0])\n",
    "plt.plot(mx['test'].iloc[0])\n",
    "plt.plot(mx['preds'].iloc[0][0])\n",
    "plt.plot(mx['preds_models'].iloc[0].mean(axis=0))"
   ]
  },
  {
   "cell_type": "code",
   "execution_count": 18,
   "metadata": {},
   "outputs": [
    {
     "data": {
      "text/plain": [
       "[0.5919115288413667,\n",
       " 0.46905565064053445,\n",
       " 3.4578948624950954,\n",
       " 0.7463482517320912,\n",
       " 0.8847621548823131,\n",
       " 0.9100642284583055,\n",
       " 0.6367531162661433,\n",
       " 2.1964567010605016,\n",
       " 1.4150853691653154,\n",
       " 0.9162465229790402,\n",
       " 0.7365947669111657,\n",
       " 0.5241589987091135,\n",
       " 0.8851171942665403,\n",
       " 0.9008368898389381,\n",
       " 2.0091263292209547,\n",
       " 1.1055102692467396,\n",
       " 0.37145206472576675,\n",
       " 0.7818856652953298,\n",
       " 0.8161509473814936,\n",
       " 0.5363419950748476,\n",
       " 0.7035012722085505,\n",
       " 1.4025058187081993,\n",
       " 1.723905366733497,\n",
       " 0.40459059657051116,\n",
       " 2.619729015878736,\n",
       " 0.6820746175354341,\n",
       " 0.6254758135802336,\n",
       " 0.9002418464809997,\n",
       " 0.894203999986595,\n",
       " 0.31224073755119497,\n",
       " 0.6340190568278278,\n",
       " 1.9387916079831564,\n",
       " 1.1159137230394147,\n",
       " 1.4990983867948695,\n",
       " 1.6148858448509746,\n",
       " 1.2532981631622566,\n",
       " 1.2629663380887644,\n",
       " 0.7840239082808396,\n",
       " 1.3576492695500202,\n",
       " 1.951363042128169,\n",
       " 0.5294305365708828,\n",
       " 2.067908181883318,\n",
       " 1.8671157596062888,\n",
       " 2.267328698776326,\n",
       " 0.7011332383276401,\n",
       " 0.48452643167978077,\n",
       " 7.139503402769068,\n",
       " 0.4584365142582115,\n",
       " 2.213527831551878]"
      ]
     },
     "execution_count": 18,
     "metadata": {},
     "output_type": "execute_result"
    }
   ],
   "source": [
    "ecm"
   ]
  },
  {
   "cell_type": "code",
   "execution_count": null,
   "metadata": {},
   "outputs": [],
   "source": []
  }
 ],
 "metadata": {
  "kernelspec": {
   "display_name": "Python 3",
   "language": "python",
   "name": "python3"
  },
  "language_info": {
   "codemirror_mode": {
    "name": "ipython",
    "version": 3
   },
   "file_extension": ".py",
   "mimetype": "text/x-python",
   "name": "python",
   "nbconvert_exporter": "python",
   "pygments_lexer": "ipython3",
   "version": "3.7.3"
  }
 },
 "nbformat": 4,
 "nbformat_minor": 2
}
